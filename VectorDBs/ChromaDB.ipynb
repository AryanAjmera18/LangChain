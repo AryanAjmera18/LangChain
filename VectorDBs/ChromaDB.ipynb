{
 "cells": [
  {
   "cell_type": "markdown",
   "id": "efde6736",
   "metadata": {},
   "source": [
    "#### Chroma\n",
    "Chroma is a AI-native open-source vector database focused on developer productivity and happiness. Chroma is licensed under Apache 2.0.\n",
    "\n",
    "https://python.langchain.com/v0.2/docs/integrations/vectorstores/"
   ]
  },
  {
   "cell_type": "code",
   "execution_count": 2,
   "id": "cf56057e",
   "metadata": {},
   "outputs": [],
   "source": [
    "from langchain_chroma import Chroma\n",
    "from langchain_community.document_loaders import TextLoader\n",
    "from langchain_community.embeddings import OllamaEmbeddings\n",
    "from langchain_text_splitters import RecursiveCharacterTextSplitter"
   ]
  },
  {
   "cell_type": "code",
   "execution_count": 3,
   "id": "961927b6",
   "metadata": {},
   "outputs": [],
   "source": [
    "\n",
    "loader = TextLoader(\"D:\\LangChain\\DataIngestion\\speech.txt\")\n",
    "documents = loader.load()\n"
   ]
  },
  {
   "cell_type": "code",
   "execution_count": 4,
   "id": "6bf7ea07",
   "metadata": {},
   "outputs": [],
   "source": [
    "text_splitter = RecursiveCharacterTextSplitter(chunk_size=500, chunk_overlap=0)\n",
    "splits = text_splitter.split_documents(documents)"
   ]
  },
  {
   "cell_type": "code",
   "execution_count": 5,
   "id": "2ed8cc28",
   "metadata": {},
   "outputs": [
    {
     "name": "stderr",
     "output_type": "stream",
     "text": [
      "C:\\Users\\aryan\\AppData\\Local\\Temp\\ipykernel_1304\\1452651290.py:1: LangChainDeprecationWarning: The class `OllamaEmbeddings` was deprecated in LangChain 0.3.1 and will be removed in 1.0.0. An updated version of the class exists in the :class:`~langchain-ollama package and should be used instead. To use it run `pip install -U :class:`~langchain-ollama` and import as `from :class:`~langchain_ollama import OllamaEmbeddings``.\n",
      "  embedding = OllamaEmbeddings(model =\"gemma:2b\")\n"
     ]
    }
   ],
   "source": [
    "embedding = OllamaEmbeddings(model =\"gemma:2b\")\n",
    "vectorDB = Chroma.from_documents(documents=splits,embedding=embedding)"
   ]
  },
  {
   "cell_type": "code",
   "execution_count": 6,
   "id": "32b829c0",
   "metadata": {},
   "outputs": [
    {
     "data": {
      "text/plain": [
       "'To such a task we can dedicate our lives and our fortunes, everything that we are and everything that we have, with the pride of those who know that the day has come when America is privileged to spend her blood and her might for the principles that gave her birth and happiness and the peace which she has treasured. God helping her, she can do no other.'"
      ]
     },
     "execution_count": 6,
     "metadata": {},
     "output_type": "execute_result"
    }
   ],
   "source": [
    "query = \" What does the speaker believe is the main reason the United States should enter the war ? \"\n",
    "docs = vectorDB.similarity_search(query)\n",
    "docs[0].page_content"
   ]
  },
  {
   "cell_type": "code",
   "execution_count": 7,
   "id": "4425dc34",
   "metadata": {},
   "outputs": [],
   "source": [
    "## Save to the local \n",
    "vectorDB = Chroma.from_documents(documents=splits, embedding=embedding, persist_directory=\"D:\\LangChain\\VectorDB\\ChromaDB\")"
   ]
  },
  {
   "cell_type": "code",
   "execution_count": null,
   "id": "6c4fc321",
   "metadata": {},
   "outputs": [],
   "source": []
  }
 ],
 "metadata": {
  "kernelspec": {
   "display_name": "Python 3",
   "language": "python",
   "name": "python3"
  },
  "language_info": {
   "codemirror_mode": {
    "name": "ipython",
    "version": 3
   },
   "file_extension": ".py",
   "mimetype": "text/x-python",
   "name": "python",
   "nbconvert_exporter": "python",
   "pygments_lexer": "ipython3",
   "version": "3.10.0"
  }
 },
 "nbformat": 4,
 "nbformat_minor": 5
}
